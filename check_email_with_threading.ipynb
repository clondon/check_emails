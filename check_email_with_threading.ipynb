{
 "metadata": {
  "language_info": {
   "codemirror_mode": {
    "name": "ipython",
    "version": 3
   },
   "file_extension": ".py",
   "mimetype": "text/x-python",
   "name": "python",
   "nbconvert_exporter": "python",
   "pygments_lexer": "ipython3",
   "version": "3.6.4-final"
  },
  "orig_nbformat": 2,
  "kernelspec": {
   "name": "python3",
   "display_name": "Python 3.6.4 64-bit ('env')",
   "metadata": {
    "interpreter": {
     "hash": "6a003536d9a7f18708c9acaa84b8c3a84ad22f30f2ae61485878f219177328fc"
    }
   }
  }
 },
 "nbformat": 4,
 "nbformat_minor": 2,
 "cells": [
  {
   "cell_type": "code",
   "execution_count": null,
   "metadata": {},
   "outputs": [],
   "source": [
    "from queue import Queue\n",
    "# Import threading modules\n",
    "import threading\n",
    "import time"
   ]
  },
  {
   "cell_type": "code",
   "execution_count": 42,
   "metadata": {},
   "outputs": [],
   "source": [
    "start_time = time.time()"
   ]
  },
  {
   "cell_type": "code",
   "execution_count": 43,
   "metadata": {},
   "outputs": [
    {
     "output_type": "stream",
     "name": "stdout",
     "text": [
      "1607035118.162975\n"
     ]
    }
   ],
   "source": [
    "print(start_time)"
   ]
  },
  {
   "cell_type": "code",
   "execution_count": 44,
   "metadata": {},
   "outputs": [],
   "source": [
    "# Setup Threading queue \n",
    "print_lock = threading.Lock"
   ]
  },
  {
   "cell_type": "code",
   "execution_count": 45,
   "metadata": {},
   "outputs": [],
   "source": [
    "# Assign queue funtion to q\n",
    "q = Queue()"
   ]
  },
  {
   "cell_type": "code",
   "execution_count": 46,
   "metadata": {},
   "outputs": [],
   "source": [
    "# This function is where the actual task is done\n",
    "# Function definition\n",
    "def exampleJob(worker):\n",
    "    # This is a dummy task that could be a useful item\n",
    "    time.sleep(0.5)\n",
    "    # this shows the threads in action for learning \n",
    "    with print_lock:\n",
    "        # Prints the actual threds\n",
    "        print(threading.current_thread().name, worker)\n"
   ]
  },
  {
   "cell_type": "code",
   "execution_count": null,
   "metadata": {},
   "outputs": [],
   "source": [
    "# This is where we put jobs into the queu\n",
    "def threader():\n",
    "    # Loops while there is something in the queue\n",
    "    while True:\n",
    "        # This \"pops\" a jon off the queue.\n",
    "        # This could be the job board.\n",
    "        worker = q.get()\n",
    "        # Call the worker function with the job to be done\n",
    "        exampleJob(worker)\n",
    "        # When the work is done the thread is closed\n",
    "        q.task_done()\n"
   ]
  },
  {
   "cell_type": "code",
   "execution_count": null,
   "metadata": {},
   "outputs": [],
   "source": [
    "# This is the factory manager dishing out the work.\n",
    "# We'll have 10 workers\n",
    "for x in range(10):\n",
    "    # Adds the threads \n",
    "    t = threading.Thread(target = threader)\n",
    "    # Sets the thread to run in the background \n",
    "    t.daemon = True\n",
    "    # This starts the work day\n",
    "    t.start()\n",
    "# Starts the stop workday\n",
    "start = time.time()\n"
   ]
  },
  {
   "cell_type": "code",
   "execution_count": null,
   "metadata": {},
   "outputs": [],
   "source": [
    "# This is the numner of tasks to perform\n",
    "for worker in range(20):\n",
    "    # Add a job to the work queue\n",
    "    q.put(worker)\n",
    "\n",
    "q.join()\n",
    "\n",
    "print(f\"Entire job took\", time.time() - start )"
   ]
  },
  {
   "cell_type": "code",
   "execution_count": null,
   "metadata": {},
   "outputs": [],
   "source": []
  }
 ]
}