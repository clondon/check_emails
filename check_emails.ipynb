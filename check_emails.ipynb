{
 "metadata": {
  "language_info": {
   "codemirror_mode": {
    "name": "ipython",
    "version": 3
   },
   "file_extension": ".py",
   "mimetype": "text/x-python",
   "name": "python",
   "nbconvert_exporter": "python",
   "pygments_lexer": "ipython3",
   "version": "3.6.4-final"
  },
  "orig_nbformat": 2,
  "kernelspec": {
   "name": "python3",
   "display_name": "Python 3.6.4 64-bit ('env')",
   "metadata": {
    "interpreter": {
     "hash": "6a003536d9a7f18708c9acaa84b8c3a84ad22f30f2ae61485878f219177328fc"
    }
   }
  }
 },
 "nbformat": 4,
 "nbformat_minor": 2,
 "cells": [
  {
   "cell_type": "code",
   "execution_count": null,
   "metadata": {},
   "outputs": [],
   "source": [
    "from queue import Queue\n",
    "# Import threading modules\n",
    "import threading\n",
    "import time\n",
    "import smtplib"
   ]
  },
  {
   "cell_type": "code",
   "execution_count": 7,
   "metadata": {},
   "outputs": [
    {
     "output_type": "execute_result",
     "data": {
      "text/plain": [
       "['CRLF',\n",
       " 'LMTP',\n",
       " 'LMTP_PORT',\n",
       " 'OLDSTYLE_AUTH',\n",
       " 'SMTP',\n",
       " 'SMTPAuthenticationError',\n",
       " 'SMTPConnectError',\n",
       " 'SMTPDataError',\n",
       " 'SMTPException',\n",
       " 'SMTPHeloError',\n",
       " 'SMTPNotSupportedError',\n",
       " 'SMTPRecipientsRefused',\n",
       " 'SMTPResponseException',\n",
       " 'SMTPSenderRefused',\n",
       " 'SMTPServerDisconnected',\n",
       " 'SMTP_PORT',\n",
       " 'SMTP_SSL',\n",
       " 'SMTP_SSL_PORT',\n",
       " '_MAXLINE',\n",
       " '__all__',\n",
       " '__builtins__',\n",
       " '__cached__',\n",
       " '__doc__',\n",
       " '__file__',\n",
       " '__loader__',\n",
       " '__name__',\n",
       " '__package__',\n",
       " '__spec__',\n",
       " '_addr_only',\n",
       " '_fix_eols',\n",
       " '_have_ssl',\n",
       " '_quote_periods',\n",
       " 'bCRLF',\n",
       " 'base64',\n",
       " 'copy',\n",
       " 'datetime',\n",
       " 'email',\n",
       " 'encode_base64',\n",
       " 'hmac',\n",
       " 'io',\n",
       " 'quoteaddr',\n",
       " 'quotedata',\n",
       " 're',\n",
       " 'socket',\n",
       " 'ssl',\n",
       " 'sys']"
      ]
     },
     "metadata": {},
     "execution_count": 7
    }
   ],
   "source": [
    "dir(smtplib)"
   ]
  },
  {
   "cell_type": "code",
   "execution_count": null,
   "metadata": {},
   "outputs": [],
   "source": []
  }
 ]
}